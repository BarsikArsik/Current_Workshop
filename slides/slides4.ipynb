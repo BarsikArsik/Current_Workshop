{
 "cells": [
  {
   "cell_type": "code",
   "execution_count": null,
   "id": "4b3de09f",
   "metadata": {
    "slideshow": {
     "slide_type": "skip"
    }
   },
   "outputs": [],
   "source": [
    "options(warn = -1)\n",
    "suppressMessages(library(neotoma2))\n",
    "suppressMessages(library(sf))\n",
    "suppressMessages(library(geojsonsf))\n",
    "suppressMessages(library(dplyr))\n",
    "suppressMessages(library(ggplot2))\n",
    "suppressMessages(library(leaflet))\n",
    "suppressWarnings(library(dplyr))\n",
    "\n",
    "options(dplyr.summarise.inform = FALSE)"
   ]
  },
  {
   "cell_type": "code",
   "execution_count": null,
   "id": "96dbe358",
   "metadata": {
    "slideshow": {
     "slide_type": "skip"
    }
   },
   "outputs": [],
   "source": [
    "cz_dl <- readRDS('data/czDownload.RDS')\n",
    "allSamp <- samples(cz_dl)\n",
    "\n",
    "translation <- readr::read_csv(\"data/taxontable.csv\", show_col_types = FALSE)\n",
    "allSamp <- allSamp %>%\n",
    "  inner_join(translation, by = c(\"variablename\" = \"variablename\")) %>% \n",
    "  select(!c(\"variablename\", \"sites\", \"samples\")) %>% \n",
    "  group_by(siteid, sitename, replacement,\n",
    "           sampleid, units, age,\n",
    "           agetype, depth, datasetid,\n",
    "           long, lat) %>%\n",
    "  summarise(value = sum(value))"
   ]
  },
  {
   "cell_type": "markdown",
   "id": "cc8afc67",
   "metadata": {
    "slideshow": {
     "slide_type": "slide"
    }
   },
   "source": [
    "## Doing Basic Analysis\n",
    "\n",
    "- We now have site information across the Czech Republic, with samples, and with taxon names. \n",
    "\n",
    "- Let's look at the distributions of taxa across time, simply their presence absence. \n",
    "\n",
    "- Pick the top 20 taxa (based on the number of times they appear in the records) and look at their distributions in time"
   ]
  },
  {
   "cell_type": "code",
   "execution_count": null,
   "id": "ea71e9d7",
   "metadata": {
    "slideshow": {
     "slide_type": "slide"
    }
   },
   "outputs": [],
   "source": [
    "taxabyage <- allSamp %>% \n",
    "  group_by(replacement, \"age\" = round(age, -2)) %>% \n",
    "  summarise(n = n())"
   ]
  },
  {
   "cell_type": "code",
   "execution_count": null,
   "id": "99a1c6da",
   "metadata": {
    "slideshow": {
     "slide_type": "subslide"
    }
   },
   "outputs": [],
   "source": [
    "samplesbyage <- allSamp %>% \n",
    "  group_by(\"age\" = round(age, -2)) %>% \n",
    "  summarise(samples = length(unique(sampleid)))\n",
    "\n",
    "taxabyage <- taxabyage %>%\n",
    "  inner_join(samplesbyage, by = \"age\") %>% \n",
    "  mutate(proportion = n / samples)\n",
    "\n",
    "toptaxa <- taxabyage %>%\n",
    "  group_by(replacement) %>%\n",
    "  summarise(n = n()) %>%\n",
    "  arrange(desc(n)) %>%\n",
    "  head(n = 10)\n",
    "\n",
    "groupbyage <- taxabyage %>%\n",
    "  filter(replacement %in% toptaxa$replacement)"
   ]
  },
  {
   "cell_type": "code",
   "execution_count": null,
   "id": "2f3ae40e",
   "metadata": {
    "slideshow": {
     "slide_type": "subslide"
    }
   },
   "outputs": [],
   "source": [
    "ggplot(groupbyage, aes(x = age, y = proportion)) +\n",
    "  geom_point() +\n",
    "  geom_smooth(method = 'gam', \n",
    "              method.args = list(family = 'binomial')) +\n",
    "  facet_wrap(~replacement) +\n",
    "  coord_cartesian(xlim = c(0, 20000), ylim = c(0, 1))"
   ]
  },
  {
   "cell_type": "markdown",
   "id": "f8071a30",
   "metadata": {
    "slideshow": {
     "slide_type": "slide"
    }
   },
   "source": [
    "## Stratigraphic Plotting for One Site"
   ]
  },
  {
   "cell_type": "code",
   "execution_count": null,
   "id": "78e88fe4",
   "metadata": {
    "slideshow": {
     "slide_type": "subslide"
    }
   },
   "outputs": [],
   "source": [
    "# Get a particular site:\n",
    "onesite <- samples(cz_dl[[1]]) %>% \n",
    "  inner_join(translation, by = c(\"variablename\" = \"variablename\")) %>% \n",
    "  select(!c(\"variablename\", \"sites\", \"samples\")) %>% \n",
    "  group_by(siteid, sitename, replacement,\n",
    "           sampleid, units, age,\n",
    "           agetype, depth, datasetid,\n",
    "           long, lat) %>%\n",
    "  summarise(value = sum(value))\n",
    "DT::datatable(head(onesite, n = 20), rownames = FALSE)\n"
   ]
  },
  {
   "cell_type": "code",
   "execution_count": null,
   "id": "0d6c71c7",
   "metadata": {
    "slideshow": {
     "slide_type": "subslide"
    }
   },
   "outputs": [],
   "source": [
    "onesite <- onesite %>%\n",
    "  filter(units == \"NISP\") %>%\n",
    "  group_by(age) %>%\n",
    "  mutate(pollencount = sum(value, na.rm = TRUE)) %>%\n",
    "  group_by(replacement) %>% \n",
    "  mutate(prop = value / pollencount)\n",
    "\n",
    "topcounts <- onesite %>%\n",
    "  group_by(replacement) %>%\n",
    "  summarise(n = n()) %>%\n",
    "  arrange(desc(n)) %>%\n",
    "  head(n = 10)"
   ]
  },
  {
   "cell_type": "code",
   "execution_count": null,
   "id": "93596db0",
   "metadata": {
    "slideshow": {
     "slide_type": "subslide"
    }
   },
   "outputs": [],
   "source": [
    "widetable <- onesite %>%\n",
    "  filter(replacement %in% topcounts$replacement) %>%\n",
    "  select(age, replacement, prop) %>% \n",
    "  mutate(prop = as.numeric(prop))\n",
    "\n",
    "counts <- tidyr::pivot_wider(widetable,\n",
    "                             id_cols = age,\n",
    "                             names_from = replacement,\n",
    "                             values_from = prop,\n",
    "                             values_fill = 0)"
   ]
  },
  {
   "cell_type": "code",
   "execution_count": null,
   "id": "f5db291c",
   "metadata": {
    "slideshow": {
     "slide_type": "subslide"
    }
   },
   "outputs": [],
   "source": [
    "rioja::strat.plot(counts[,-1], yvar = counts$age,\n",
    "                  title = cz_dl[[1]]$sitename)"
   ]
  },
  {
   "cell_type": "markdown",
   "id": "8bf6c759",
   "metadata": {
    "slideshow": {
     "slide_type": "slide"
    }
   },
   "source": [
    "## Using Spatial-based Data (July max temperature)"
   ]
  },
  {
   "cell_type": "code",
   "execution_count": null,
   "id": "19f243f3",
   "metadata": {
    "slideshow": {
     "slide_type": "subslide"
    }
   },
   "outputs": [],
   "source": [
    "modern <- allSamp %>% filter(age < 50)\n",
    "\n",
    "spatial <- sf::st_as_sf(modern, \n",
    "                        coords = c(\"long\", \"lat\"),\n",
    "                        crs = \"+proj=longlat +datum=WGS84\")"
   ]
  },
  {
   "cell_type": "code",
   "execution_count": null,
   "id": "9639cc25",
   "metadata": {
    "slideshow": {
     "slide_type": "subslide"
    }
   },
   "outputs": [],
   "source": [
    "worldTmax <- raster::getData('worldclim', var = 'tmax', res = 10)\n",
    "worldTmax"
   ]
  },
  {
   "cell_type": "code",
   "execution_count": null,
   "id": "a7ad9aca",
   "metadata": {
    "slideshow": {
     "slide_type": "subslide"
    }
   },
   "outputs": [],
   "source": [
    "modern$tmax7 <- raster::extract(worldTmax, spatial)[,7]\n",
    "head(modern)"
   ]
  },
  {
   "cell_type": "code",
   "execution_count": null,
   "id": "6238aae2",
   "metadata": {
    "slideshow": {
     "slide_type": "subslide"
    }
   },
   "outputs": [],
   "source": [
    "maxsamp <- modern %>% \n",
    "  group_by(siteid, sitename) %>% \n",
    "  dplyr::distinct(tmax7)\n",
    "head(maxsamp)"
   ]
  },
  {
   "cell_type": "code",
   "execution_count": null,
   "id": "15cf9e92",
   "metadata": {
    "slideshow": {
     "slide_type": "subslide"
    }
   },
   "outputs": [],
   "source": [
    "topten <- allSamp %>% \n",
    "  dplyr::group_by(replacement) %>% \n",
    "  dplyr::summarise(n = dplyr::n()) %>% \n",
    "  dplyr::arrange(desc(n))\n",
    "head(topten, n=10)"
   ]
  },
  {
   "cell_type": "code",
   "execution_count": null,
   "id": "aa0cba93",
   "metadata": {
    "slideshow": {
     "slide_type": "subslide"
    }
   },
   "outputs": [],
   "source": [
    "pollen_subsamp <- modern %>% \n",
    "  dplyr::filter(replacement %in% topten$replacement[1:16])\n",
    "head(pollen_subsamp, n = 5)"
   ]
  },
  {
   "cell_type": "code",
   "execution_count": null,
   "id": "5b4a4b9a",
   "metadata": {
    "slideshow": {
     "slide_type": "subslide"
    }
   },
   "outputs": [],
   "source": [
    "ggplot() +\n",
    "  geom_density(data = pollen_subsamp,\n",
    "               aes(x = round(tmax7 / 10, 0)), col = 2) +\n",
    "  facet_wrap(~replacement) +\n",
    "  geom_density(data = maxsamp, aes(x = tmax7 / 10)) +\n",
    "  xlab(\"Maximum July Temperature\") +\n",
    "  ylab(\"Kernel Density\")"
   ]
  }
 ],
 "metadata": {
  "celltoolbar": "Slideshow",
  "kernelspec": {
   "display_name": "R",
   "language": "R",
   "name": "ir"
  },
  "language_info": {
   "codemirror_mode": "r",
   "file_extension": ".r",
   "mimetype": "text/x-r-source",
   "name": "R",
   "pygments_lexer": "r",
   "version": "4.1.3"
  },
  "rise": {
   "autolaunch": true,
   "height": "80%",
   "scroll": true,
   "theme": "serif",
   "width": "90%"
  }
 },
 "nbformat": 4,
 "nbformat_minor": 5
}
