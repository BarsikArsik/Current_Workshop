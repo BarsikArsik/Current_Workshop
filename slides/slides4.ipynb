{
 "cells": [
  {
   "cell_type": "code",
   "execution_count": null,
   "id": "4b3de09f",
   "metadata": {
    "slideshow": {
     "slide_type": "slide"
    }
   },
   "outputs": [],
   "source": [
    "# Run this cell if you want to follow along \n",
    "options(warn = -1)\n",
    "suppressMessages(library(neotoma2))\n",
    "suppressMessages(library(sf))\n",
    "suppressMessages(library(geojsonsf))\n",
    "suppressMessages(library(dplyr))\n",
    "suppressMessages(library(ggplot2))\n",
    "suppressMessages(library(leaflet))\n",
    "suppressWarnings(library(dplyr))\n",
    "\n",
    "options(dplyr.summarise.inform = FALSE)\n",
    "\n",
    "cz_dl <- readRDS('data/czDownload.RDS')"
   ]
  },
  {
   "cell_type": "markdown",
   "id": "b052d958",
   "metadata": {
    "slideshow": {
     "slide_type": "slide"
    }
   },
   "source": [
    "## Simple Analytics\n",
    "\n",
    "### Stratigraphic Plotting with `rioja`"
   ]
  },
  {
   "cell_type": "code",
   "execution_count": null,
   "id": "96dbe358",
   "metadata": {
    "slideshow": {
     "slide_type": "skip"
    }
   },
   "outputs": [],
   "source": [
    "# Get 1 site only\n",
    "plottingSite <- cz_dl[[1]]\n",
    "\n",
    "# select only taxa identified from pollen (and only trees/shrubs)\n",
    "plottingTaxa <- taxa(plottingSite) %>%\n",
    "  filter(ecologicalgroup %in% c(\"TRSH\")) %>%\n",
    "  filter(elementtype == \"pollen\") %>%\n",
    "  arrange(desc(samples)) %>% \n",
    "  head(n = 10)\n",
    "\n",
    "DT::datatable(head(plottingTaxa, n =2))"
   ]
  },
  {
   "cell_type": "code",
   "execution_count": null,
   "id": "ea71e9d7",
   "metadata": {
    "slideshow": {
     "slide_type": "slide"
    }
   },
   "outputs": [],
   "source": [
    "# Select only pollen measured using NISP.\n",
    "# We repeat the filters for pollen & ecological group on the samples\n",
    "shortSamples <- samples(plottingSite) %>% \n",
    "  filter(variablename %in% plottingTaxa$variablename) %>% \n",
    "  filter(ecologicalgroup %in% c(\"TRSH\")) %>%\n",
    "  filter(elementtype == \"pollen\") %>%\n",
    "  filter(units == \"NISP\")\n",
    "DT::datatable(head(shortSamples, n=2))"
   ]
  },
  {
   "cell_type": "code",
   "execution_count": null,
   "id": "99a1c6da",
   "metadata": {
    "slideshow": {
     "slide_type": "subslide"
    }
   },
   "outputs": [],
   "source": [
    "# Transform to proportion values.\n",
    "onesite <- shortSamples %>%\n",
    "  group_by(age) %>%\n",
    "  mutate(pollencount = sum(value, na.rm = TRUE)) %>%\n",
    "  group_by(variablename) %>% \n",
    "  mutate(prop = value / pollencount) %>% \n",
    "  arrange(desc(age))"
   ]
  },
  {
   "cell_type": "code",
   "execution_count": null,
   "id": "1d0184fb",
   "metadata": {},
   "outputs": [],
   "source": [
    "# Spread the data to a \"wide\" table, with taxa as column headings.\n",
    "widetable <- onesite %>%\n",
    "  dplyr::select(age, variablename, prop) %>% \n",
    "  mutate(prop = as.numeric(prop))\n",
    "\n",
    "counts <- tidyr::pivot_wider(widetable,\n",
    "                             id_cols = age,\n",
    "                             names_from = variablename,\n",
    "                             values_from = prop,\n",
    "                             values_fill = 0)"
   ]
  },
  {
   "cell_type": "code",
   "execution_count": null,
   "id": "2f3ae40e",
   "metadata": {
    "slideshow": {
     "slide_type": "subslide"
    }
   },
   "outputs": [],
   "source": [
    "clust <- rioja::chclust(dist(sqrt(counts)),\n",
    "                        method = \"coniss\")\n",
    "\n",
    "plot <- rioja::strat.plot(counts[,-1] * 100, yvar = counts$age,\n",
    "                  title = cz_dl[[1]]$sitename,\n",
    "                  ylabel = \"Calibrated Years BP\",\n",
    "                  xlabel = \"Pollen (%)\",\n",
    "                  y.rev = TRUE,\n",
    "                  clust = clust,\n",
    "                  wa.order = \"topleft\", scale.percent = TRUE)\n",
    "\n",
    "rioja::addClustZone(plot, clust, 4, col = \"red\")"
   ]
  },
  {
   "cell_type": "markdown",
   "id": "16a33b7d",
   "metadata": {
    "slideshow": {
     "slide_type": "slide"
    }
   },
   "source": [
    "### Change time across sites"
   ]
  },
  {
   "cell_type": "markdown",
   "id": "cc8afc67",
   "metadata": {
    "slideshow": {
     "slide_type": "fragment"
    }
   },
   "source": [
    "- We now have site information across the Czech Republic, with samples, and with taxon names. \n",
    "\n",
    "- Let's look at the distributions of taxa across time, simply their presence absence. \n",
    "\n",
    "- Pick the top 20 taxa (based on the number of times they appear in the records) and look at their distributions in time"
   ]
  },
  {
   "cell_type": "code",
   "execution_count": null,
   "id": "ce65f4ac",
   "metadata": {
    "slideshow": {
     "slide_type": "subslide"
    }
   },
   "outputs": [],
   "source": [
    "plottingTaxa <- taxa(plottingSite) %>%\n",
    "  filter(ecologicalgroup %in% c(\"TRSH\")) %>%\n",
    "  filter(elementtype == \"pollen\") %>%\n",
    "  arrange(desc(sites)) %>% \n",
    "  head(n = 20)\n"
   ]
  },
  {
   "cell_type": "code",
   "execution_count": null,
   "id": "22bdb2cb",
   "metadata": {
    "slideshow": {
     "slide_type": "subslide"
    }
   },
   "outputs": [],
   "source": [
    "\n",
    "taxabyage <- samples(cz_dl) %>% \n",
    "  filter(variablename %in% plottingTaxa$variablename) %>% \n",
    "  group_by(variablename, \"age\" = round(age * 2, -3) / 2) %>% \n",
    "  summarise(n = length(unique(siteid)), .groups = 'keep')\n",
    "\n"
   ]
  },
  {
   "cell_type": "code",
   "execution_count": null,
   "id": "5060c22f",
   "metadata": {
    "slideshow": {
     "slide_type": "subslide"
    }
   },
   "outputs": [],
   "source": [
    "samplesbyage <- samples(cz_dl) %>% \n",
    "  filter(variablename %in% plottingTaxa$variablename) %>% \n",
    "  group_by(\"age\" = round(age * 2, -3) / 2) %>% \n",
    "  summarise(samples = length(unique(siteid)), .groups = 'keep')\n",
    "\n",
    "groupbyage <- taxabyage %>%\n",
    "  inner_join(samplesbyage, by = \"age\") %>% \n",
    "  mutate(proportion = n / samples)\n",
    "\n"
   ]
  },
  {
   "cell_type": "code",
   "execution_count": null,
   "id": "cf80987e",
   "metadata": {
    "slideshow": {
     "slide_type": "subslide"
    }
   },
   "outputs": [],
   "source": [
    "ggplot(groupbyage, aes(x = age, y = proportion)) +\n",
    "  geom_point() +\n",
    "  geom_smooth(method = 'gam', \n",
    "              method.args = list(family = 'binomial')) +\n",
    "  facet_wrap(~variablename) +\n",
    "  coord_cartesian(xlim = c(20000, 0), ylim = c(0, 1)) +\n",
    "  scale_x_reverse(breaks = c(10000, 20000)) +\n",
    "  xlab(\"Proportion of Sites with Taxon\") +\n",
    "  theme_bw()"
   ]
  },
  {
   "cell_type": "markdown",
   "id": "8bf6c759",
   "metadata": {
    "slideshow": {
     "slide_type": "slide"
    }
   },
   "source": [
    "## Distributions in Climate (July max temperature) from `rasters`"
   ]
  },
  {
   "cell_type": "markdown",
   "id": "58d9114d",
   "metadata": {
    "slideshow": {
     "slide_type": "fragment"
    }
   },
   "source": [
    "We are often interested in the interaction between taxa and climate, assuming that time is a proxy for changing environments. \n",
    "\n",
    "The development of large-scale global datasets for climate has made it relatively straightforward to access data from the cloud in raster format. \n",
    "\n",
    "R provides a number of tools (in the sf and raster packages) for managing spatial data, and providing support for spatial analysis of data."
   ]
  },
  {
   "cell_type": "code",
   "execution_count": null,
   "id": "19f243f3",
   "metadata": {
    "slideshow": {
     "slide_type": "subslide"
    }
   },
   "outputs": [],
   "source": [
    "allSamp <- samples(cz_dl)\n",
    "\n",
    "modern <- samples(cz_dl) %>% \n",
    "  filter(age < 50) %>% \n",
    "  filter(ecologicalgroup == \"TRSH\" & elementtype == \"pollen\" & units == \"NISP\")\n",
    "\n",
    "spatial <- sf::st_as_sf(modern, \n",
    "                        coords = c(\"long\", \"lat\"),\n",
    "                        crs = \"+proj=longlat +datum=WGS84\")"
   ]
  },
  {
   "cell_type": "code",
   "execution_count": null,
   "id": "9639cc25",
   "metadata": {
    "slideshow": {
     "slide_type": "subslide"
    }
   },
   "outputs": [],
   "source": [
    "worldTmax <- raster::getData('worldclim', var = 'tmax', res = 10)\n",
    "spatial$tmax7 <- raster::extract(worldTmax, spatial)[,7]"
   ]
  },
  {
   "cell_type": "code",
   "execution_count": null,
   "id": "a7ad9aca",
   "metadata": {
    "slideshow": {
     "slide_type": "subslide"
    }
   },
   "outputs": [],
   "source": [
    "spatial <- spatial %>%\n",
    "  mutate(variablename = stringr::str_replace(variablename, \"[[:punct:]]\", \" \")) %>% \n",
    "  mutate(variablename = stringr::word(variablename, 1)) %>% \n",
    "  group_by(variablename, siteid) %>% \n",
    "  summarise(tmax7 = max(tmax7), .groups = \"keep\") %>%\n",
    "  group_by(variablename) %>% \n",
    "  filter(n() > 3)"
   ]
  },
  {
   "cell_type": "code",
   "execution_count": null,
   "id": "6238aae2",
   "metadata": {
    "slideshow": {
     "slide_type": "subslide"
    }
   },
   "outputs": [],
   "source": [
    "maxsamp <- spatial %>% \n",
    "  dplyr::group_by(siteid) %>% \n",
    "  dplyr::summarise(tmax7 = max(tmax7), .groups = 'keep')"
   ]
  },
  {
   "cell_type": "code",
   "execution_count": null,
   "id": "15cf9e92",
   "metadata": {
    "slideshow": {
     "slide_type": "subslide"
    }
   },
   "outputs": [],
   "source": [
    "ggplot() +\n",
    "  geom_density(data = spatial,\n",
    "               aes(x = round(tmax7 / 10, 0)), col = 2) +\n",
    "  facet_wrap(~variablename) +\n",
    "  geom_density(data = maxsamp, aes(x = tmax7 / 10)) +\n",
    "  xlab(\"Maximum July Temperature\") +\n",
    "  ylab(\"Kernel Density\")"
   ]
  }
 ],
 "metadata": {
  "celltoolbar": "Slideshow",
  "kernelspec": {
   "display_name": "R",
   "language": "R",
   "name": "ir"
  },
  "language_info": {
   "codemirror_mode": "r",
   "file_extension": ".r",
   "mimetype": "text/x-r-source",
   "name": "R",
   "pygments_lexer": "r",
   "version": "4.1.3"
  },
  "rise": {
   "autolaunch": true,
   "height": "80%",
   "scroll": true,
   "theme": "serif",
   "width": "90%"
  }
 },
 "nbformat": 4,
 "nbformat_minor": 5
}
