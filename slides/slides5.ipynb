{
 "cells": [
  {
   "cell_type": "markdown",
   "id": "34117d15",
   "metadata": {
    "slideshow": {
     "slide_type": "slide"
    }
   },
   "source": [
    "## Looking at Chronologies"
   ]
  },
  {
   "cell_type": "code",
   "execution_count": null,
   "id": "20e359cb",
   "metadata": {
    "slideshow": {
     "slide_type": "slide"
    }
   },
   "outputs": [],
   "source": [
    "# Run this cell if you want to follow along \n",
    "options(warn = -1)\n",
    "suppressMessages(library(neotoma2))\n",
    "suppressMessages(library(dplyr))\n",
    "suppressMessages(library(ggplot2))\n",
    "suppressMessages(library(Bchron))\n",
    "\n",
    "options(dplyr.summarise.inform = FALSE)"
   ]
  },
  {
   "cell_type": "code",
   "execution_count": null,
   "id": "79a9bbc3",
   "metadata": {
    "slideshow": {
     "slide_type": "slide"
    }
   },
   "outputs": [],
   "source": [
    "stara <- get_downloads(24238)\n",
    "stara_chron <- chronologies(stara)\n",
    "\n",
    "stara_chron %>% as.data.frame() %>% \n",
    "  DT::datatable(data = .)"
   ]
  },
  {
   "cell_type": "markdown",
   "id": "4bf5c72e",
   "metadata": {
    "slideshow": {
     "slide_type": "notes"
    }
   },
   "source": [
    "There are three chronologies here, but for whatever reason we've decided not to use any of them.  We want to build a new one with the function `Bchronology()` from the [`Bchron` package](https://cran.r-project.org/web/packages/Bchron/vignettes/Bchron.html). First we want to see what chroncontrols we have for the prior chronologies. We're going to select the chronologies used for chronology `14591` as our template.  "
   ]
  },
  {
   "cell_type": "markdown",
   "id": "68734511",
   "metadata": {},
   "source": [
    "### Extract `chroncontrols`"
   ]
  },
  {
   "cell_type": "code",
   "execution_count": null,
   "id": "80c4d272",
   "metadata": {
    "slideshow": {
     "slide_type": "slide"
    }
   },
   "outputs": [],
   "source": [
    "controls <- chroncontrols(stara) %>% \n",
    "  dplyr::filter(chronologyid == 14591) %>% \n",
    "  arrange(depth)\n",
    "\n",
    "controls %>% DT::datatable(data = .)"
   ]
  },
  {
   "cell_type": "code",
   "execution_count": null,
   "id": "26ffa6fb",
   "metadata": {
    "slideshow": {
     "slide_type": "subslide"
    }
   },
   "outputs": [],
   "source": [
    "controls$chroncontrolage[1] <- 0\n",
    "controls$agelimityounger[1] <- -2\n",
    "controls$agelimitolder[1] <- 2\n",
    "controls$thickness[1] <- 1\n",
    "\n",
    "controls %>% DT::datatable(data = .)"
   ]
  },
  {
   "cell_type": "markdown",
   "id": "08c795bd",
   "metadata": {
    "slideshow": {
     "slide_type": "slide"
    }
   },
   "source": [
    "### Extract Depth & Analysis Unit IDs"
   ]
  },
  {
   "cell_type": "markdown",
   "id": "2e3d4c98",
   "metadata": {
    "slideshow": {
     "slide_type": "fragment"
    }
   },
   "source": [
    "Once our `chroncontrols` table is updated, we extract the `depth`s and `analysisunitid`s from the dataset `samples()`. Pulling in both `depth`s and `analysisunitid`s is important because a single collection unit may have multiple datasets, which may have non-overlapping depth sequences. So, when adding sample ages back to a record we use the `analysisunitid` to make sure we are providing the correct assignment since depth may be specific to a single dataset."
   ]
  },
  {
   "cell_type": "code",
   "execution_count": null,
   "id": "d9fad350",
   "metadata": {
    "slideshow": {
     "slide_type": "subslide"
    }
   },
   "outputs": [],
   "source": [
    "# Get a two column data.frame with columns depth and analysisunitid.\n",
    "# Sort the table by depth from top to bottom for \"Bchronology\"\n",
    "predictDepths <- samples(stara) %>%\n",
    "  select(depth, analysisunitid) %>% \n",
    "  unique() %>% \n",
    "  arrange(depth)"
   ]
  },
  {
   "cell_type": "code",
   "execution_count": null,
   "id": "3bd8bf34",
   "metadata": {
    "slideshow": {
     "slide_type": "subslide"
    }
   },
   "outputs": [],
   "source": [
    "# Pass the values from `controls`. We're assuming the difference between\n",
    "# chroncontrolage and the agelimityounger is 1 SD.\n",
    "\n",
    "newChron <- Bchron::Bchronology(ages = controls$chroncontrolage,\n",
    "                                ageSds = abs(controls$agelimityounger - \n",
    "                                               controls$chroncontrolage),\n",
    "                                calCurves = c(\"normal\", rep(\"intcal20\", 4)),\n",
    "                                positionThicknesses = controls$thickness,\n",
    "                                positions = controls$depth,\n",
    "                                allowOutside = TRUE,\n",
    "                                ids = controls$chroncontrolid)\n",
    "\n",
    "# Predict ages at each depth for which we have samples.  Returns a matrix.\n",
    "newpredictions <- predict(newChron, predictDepths$depth)"
   ]
  },
  {
   "cell_type": "code",
   "execution_count": null,
   "id": "7feefaec",
   "metadata": {
    "slideshow": {
     "slide_type": "subslide"
    }
   },
   "outputs": [],
   "source": [
    "plot(newChron) +\n",
    "  ggplot2::labs(\n",
    "    xlab = \"Age (cal years BP)\",\n",
    "    ylab = \"Depth (cm)\"\n",
    "  )"
   ]
  },
  {
   "cell_type": "markdown",
   "id": "aae077fc",
   "metadata": {
    "slideshow": {
     "slide_type": "slide"
    }
   },
   "source": [
    "### Creating the New `chronology` and `contact` objects"
   ]
  },
  {
   "cell_type": "markdown",
   "id": "2169b1ca",
   "metadata": {
    "slideshow": {
     "slide_type": "fragment"
    }
   },
   "source": [
    "Given the new chronology, we want to add it to the `sites` object so that it becomes the default for any calls to `samples()`. To create the metadata for the new chronology, we use `set_chronology()` using the properties from the [`chronology` table in Neotoma](https://open.neotomadb.org/dbschema/tables/chronologies.html)"
   ]
  },
  {
   "cell_type": "code",
   "execution_count": null,
   "id": "7df15fa5",
   "metadata": {
    "slideshow": {
     "slide_type": "subslide"
    }
   },
   "outputs": [],
   "source": [
    "creators <- c(set_contact(givennames = \"Simon James\",\n",
    "                          familyname = \"Goring\",\n",
    "                          ORCID = \"0000-0002-2700-4605\"),\n",
    "              set_contact(givennames = \"Socorro\",\n",
    "                          familyname = \"Dominguez Vidaña\",\n",
    "                          ORCID = \"0000-0002-7926-4935\"))\n",
    "\n",
    "newChronStara <- set_chronology(agemodel = \"Bchron model\",\n",
    "                                contact = creators,\n",
    "                                isdefault = 1,\n",
    "                                ageboundolder = max(newpredictions),\n",
    "                                ageboundyounger = min(newpredictions),\n",
    "                                dateprepared = lubridate::today(),\n",
    "                                modelagetype = \"Calibrated radiocarbon years BP\",\n",
    "                                chronologyname = \"Simon's example chronology\",\n",
    "                                chroncontrols = controls)\n",
    "\n",
    "newChronStara$notes <- 'newChron <- Bchron::Bchronology(ages = controls$chroncontrolage,\n",
    "                                ageSds = abs(controls$agelimityounger - \n",
    "                                               controls$chroncontrolage),\n",
    "                                calCurves = c(\"normal\", rep(\"intcal20\", 4)),\n",
    "                                positionThicknesses = controls$thickness,\n",
    "                                positions = controls$depth,\n",
    "                                allowOutside = TRUE,\n",
    "                                ids = controls$chroncontrolid,\n",
    "                                predictPositions = predictDepths)'"
   ]
  },
  {
   "cell_type": "markdown",
   "id": "29189fbc",
   "metadata": {
    "slideshow": {
     "slide_type": "slide"
    }
   },
   "source": [
    "### Adding the `chronology` to the `collectionunit`"
   ]
  },
  {
   "cell_type": "markdown",
   "id": "29c3431e",
   "metadata": {
    "slideshow": {
     "slide_type": "fragment"
    }
   },
   "source": [
    "Once we've created the chronology we need to apply it back to the collectionunit. We also need to add the predicted dates into the samples for each dataset associated with the collectionunit.\n",
    "\n",
    "So: \n",
    "\n",
    "1. we have a collectionunit in `stara` that is accessible at `stara[[1]]$collunits`.\n",
    "2. We can use the function `add_chronology()`, which takes the chronology object and a `data.frame()` of sample ages.\n",
    "3. The predicted dates associated with the new chronology need to be transferred to each `samples` object within the `collectionunit`.\n",
    "\n",
    "This is all bound up in the `add_chronology()` function, which takes the `collectionunit`, modifys it, and returns the newly updated `collectionunit`."
   ]
  },
  {
   "cell_type": "code",
   "execution_count": null,
   "id": "ac1ae5eb",
   "metadata": {
    "slideshow": {
     "slide_type": "subslide"
    }
   },
   "outputs": [],
   "source": [
    "newSampleAges <- data.frame(predictDepths,\n",
    "                            age = colMeans(newpredictions),\n",
    "                            ageolder = colMeans(newpredictions) + \n",
    "                              apply(newpredictions, 2, sd),\n",
    "                            ageyounger = colMeans(newpredictions) - \n",
    "                              apply(newpredictions, 2, sd),\n",
    "                            agetype = \"Calibrated radiocarbon years\")\n",
    "\n",
    "stara[[1]]$collunits[[1]] <- add_chronology(stara[[1]]$collunits[[1]], newChronStara, newSampleAges)"
   ]
  },
  {
   "cell_type": "markdown",
   "id": "00c9066b",
   "metadata": {
    "slideshow": {
     "slide_type": "subslide"
    }
   },
   "source": [
    "With this, we now have the updated collectionunit. Lets take a look at how this affects the age model overal. To pull the ages from the prior chronologies, we use the `set_default()` function to change the default chronology, and then extract ages, depths & analysisunits:"
   ]
  },
  {
   "cell_type": "code",
   "execution_count": null,
   "id": "7179d693",
   "metadata": {
    "slideshow": {
     "slide_type": "subslide"
    }
   },
   "outputs": [],
   "source": [
    "newages <- samples(stara) %>%\n",
    "  select(depth, analysisunitid, age) %>% \n",
    "  unique() %>% \n",
    "  arrange(depth) %>% \n",
    "  mutate(agecat = \"new\")\n",
    "\n",
    "stara[[1]]$collunits[[1]]$chronologies <- set_default(stara[[1]]$collunits[[1]]$chronologies,\n",
    "                                                      14591)  \n",
    "plotforages <- samples(stara) %>%\n",
    "  select(depth, analysisunitid, age) %>% \n",
    "  unique() %>% \n",
    "  arrange(depth) %>% \n",
    "  mutate(agecat = \"old\") %>% \n",
    "  bind_rows(newages)"
   ]
  },
  {
   "cell_type": "markdown",
   "id": "30672c06",
   "metadata": {
    "slideshow": {
     "slide_type": "slide"
    }
   },
   "source": [
    "### Differences"
   ]
  },
  {
   "cell_type": "code",
   "execution_count": null,
   "id": "46bf02ec",
   "metadata": {
    "slideshow": {
     "slide_type": "subslide"
    }
   },
   "outputs": [],
   "source": [
    "ggplot(plotforages, aes(x = depth, y = age)) +\n",
    "  geom_path(aes(color = agecat)) +\n",
    "  theme_bw() +\n",
    "  xlab(\"Depth (cm)\") +\n",
    "  ylab(\"Calibrated Years BP\")"
   ]
  },
  {
   "cell_type": "markdown",
   "id": "c02178fa",
   "metadata": {
    "slideshow": {
     "slide_type": "subslide"
    }
   },
   "source": [
    "So we can see the impact of the new chronology on the age model for the record, and we can make choices as to which model we want to use going forward. We can use this approach to create multiple new chronologies for a single record, tuning parameters within `Bchronology()`, or using Bacon and different parameters. Because the `chronology` is an R object we can save the objects for use in future sessions, and associate them with existin records, or we can re-run the models again."
   ]
  }
 ],
 "metadata": {
  "celltoolbar": "Slideshow",
  "kernelspec": {
   "display_name": "R",
   "language": "R",
   "name": "ir"
  },
  "language_info": {
   "codemirror_mode": "r",
   "file_extension": ".r",
   "mimetype": "text/x-r-source",
   "name": "R",
   "pygments_lexer": "r",
   "version": "4.1.3"
  },
  "rise": {
   "autolaunch": true,
   "height": "80%",
   "scroll": true,
   "theme": "serif",
   "width": "90%"
  }
 },
 "nbformat": 4,
 "nbformat_minor": 5
}
