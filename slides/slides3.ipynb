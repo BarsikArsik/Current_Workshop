{
 "cells": [
  {
   "cell_type": "markdown",
   "id": "4b262739",
   "metadata": {
    "slideshow": {
     "slide_type": "slide"
    }
   },
   "source": [
    "## Simple Harmonization"
   ]
  },
  {
   "cell_type": "code",
   "execution_count": null,
   "id": "4b3de09f",
   "metadata": {
    "slideshow": {
     "slide_type": "slide"
    }
   },
   "outputs": [],
   "source": [
    "# To follow along, run this cell first.\n",
    "\n",
    "options(warn = -1)\n",
    "suppressMessages(library(neotoma2))\n",
    "suppressMessages(library(sf))\n",
    "suppressMessages(library(geojsonsf))\n",
    "suppressMessages(library(dplyr))\n",
    "suppressMessages(library(ggplot2))\n",
    "suppressMessages(library(leaflet))\n",
    "options(dplyr.summarise.inform = FALSE)\n",
    "\n",
    "cz_dl <- readRDS('data/czDownload.RDS')\n",
    "allSamp <- samples(cz_dl)"
   ]
  },
  {
   "cell_type": "markdown",
   "id": "0c0e77e9",
   "metadata": {
    "slideshow": {
     "slide_type": "slide"
    }
   },
   "source": [
    "**Goal:** \n",
    "Group all samples from `Plantago taxa` into one pseudo-taxon called `Plantago`."
   ]
  },
  {
   "cell_type": "markdown",
   "id": "10fff5b4",
   "metadata": {
    "slideshow": {
     "slide_type": "fragment"
    }
   },
   "source": [
    "**Methods:**\n",
    "\n",
    "Using `dplyr::mutate()`\n",
    "\n",
    "Whenever we detect (`str_detect()`) a variablename that starts with Plantago replace it with `\"Plantago\"`"
   ]
  },
  {
   "cell_type": "code",
   "execution_count": null,
   "id": "2f62579b",
   "metadata": {
    "slideshow": {
     "slide_type": "subslide"
    }
   },
   "outputs": [],
   "source": [
    "allSamp %>% \n",
    "  dplyr::filter(stringr::str_detect(variablename, \"Plantago.*\")) %>%\n",
    "  dplyr::select(variablename, ecologicalgroup)%>%\n",
    "  dplyr::distinct()"
   ]
  },
  {
   "cell_type": "code",
   "execution_count": null,
   "id": "9a53ba77",
   "metadata": {
    "slideshow": {
     "slide_type": "subslide"
    }
   },
   "outputs": [],
   "source": [
    "allSamp <- allSamp %>% \n",
    "  dplyr::filter(ecologicalgroup %in% c(\"UPHE\", \"TRSH\")) %>%\n",
    "  mutate(variablename = replace(variablename, \n",
    "                                stringr::str_detect(variablename, \"Plantago.*\"), \n",
    "                                \"Plantago\"))\n",
    "\n",
    "head(allSamp, n =3)"
   ]
  },
  {
   "cell_type": "code",
   "execution_count": null,
   "id": "b0bd6a0b",
   "metadata": {
    "slideshow": {
     "slide_type": "subslide"
    }
   },
   "outputs": [],
   "source": [
    "allSamp %>% \n",
    "  dplyr::filter(stringr::str_detect(variablename, \"Plantago.*\")) %>%\n",
    "  dplyr::select(variablename, ecologicalgroup)%>%\n",
    "  dplyr::distinct()"
   ]
  },
  {
   "cell_type": "code",
   "execution_count": null,
   "id": "035cffa2",
   "metadata": {
    "slideshow": {
     "slide_type": "slide"
    }
   },
   "outputs": [],
   "source": [
    "taxaplots <- taxa(cz_dl)\n",
    "# Save the taxon list to file so we can edit it subsequently.\n",
    "readr::write_csv(taxaplots, \"data/mytaxontable.csv\")"
   ]
  },
  {
   "cell_type": "code",
   "execution_count": null,
   "id": "5802d7a4",
   "metadata": {
    "slideshow": {
     "slide_type": "subslide"
    }
   },
   "outputs": [],
   "source": [
    "translation <- readr::read_csv(\"data/taxontable.csv\")"
   ]
  },
  {
   "cell_type": "code",
   "execution_count": null,
   "id": "a7808982",
   "metadata": {
    "slideshow": {
     "slide_type": "subslide"
    }
   },
   "outputs": [],
   "source": [
    "allSamp <- samples(cz_dl)\n",
    "\n",
    "allSamp <- allSamp %>%\n",
    "  inner_join(translation, by = c(\"variablename\" = \"variablename\")) %>% \n",
    "  dplyr::select(!c(\"variablename\", \"sites\", \"samples\")) %>% \n",
    "  group_by(siteid, sitename, replacement,\n",
    "           sampleid, units, age,\n",
    "           agetype, depth, datasetid,\n",
    "           long, lat) %>%\n",
    "  summarise(value = sum(value), .groups='keep')"
   ]
  },
  {
   "cell_type": "code",
   "execution_count": null,
   "id": "33655e25",
   "metadata": {
    "slideshow": {
     "slide_type": "subslide"
    }
   },
   "outputs": [],
   "source": [
    "DT::datatable(head(allSamp, n = 25), rownames = FALSE)"
   ]
  }
 ],
 "metadata": {
  "celltoolbar": "Slideshow",
  "kernelspec": {
   "display_name": "R",
   "language": "R",
   "name": "ir"
  },
  "language_info": {
   "codemirror_mode": "r",
   "file_extension": ".r",
   "mimetype": "text/x-r-source",
   "name": "R",
   "pygments_lexer": "r",
   "version": "4.1.3"
  },
  "rise": {
   "autolaunch": true,
   "height": "80%",
   "scroll": true,
   "theme": "serif",
   "width": "90%"
  }
 },
 "nbformat": 4,
 "nbformat_minor": 5
}
