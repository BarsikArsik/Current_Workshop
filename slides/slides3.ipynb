{
 "cells": [
  {
   "cell_type": "markdown",
   "id": "4b262739",
   "metadata": {
    "slideshow": {
     "slide_type": "slide"
    }
   },
   "source": [
    "## Simple Translation"
   ]
  },
  {
   "cell_type": "code",
   "execution_count": null,
   "id": "4b3de09f",
   "metadata": {
    "slideshow": {
     "slide_type": "slide"
    }
   },
   "outputs": [],
   "source": [
    "# To follow along, run this cell first.\n",
    "\n",
    "options(warn = -1)\n",
    "suppressMessages(library(neotoma2))\n",
    "suppressMessages(library(sf))\n",
    "suppressMessages(library(geojsonsf))\n",
    "suppressMessages(library(dplyr))\n",
    "suppressMessages(library(ggplot2))\n",
    "suppressMessages(library(leaflet))\n",
    "options(dplyr.summarise.inform = FALSE)\n",
    "\n",
    "cz_dl <- readRDS('data/czDownload.RDS')\n",
    "allSamp <- samples(cz_dl)"
   ]
  },
  {
   "cell_type": "code",
   "execution_count": null,
   "id": "9a53ba77",
   "metadata": {
    "slideshow": {
     "slide_type": "subslide"
    }
   },
   "outputs": [],
   "source": [
    "allSamp <- allSamp %>% \n",
    "  mutate(variablename = replace(variablename, \n",
    "                                stringr::str_detect(variablename, \"Plantago.*\"), \n",
    "                                \"Plantago\"))\n",
    "DT::datatable(data = head(allSamp, n = 5), rownames = FALSE)"
   ]
  },
  {
   "cell_type": "code",
   "execution_count": null,
   "id": "035cffa2",
   "metadata": {
    "slideshow": {
     "slide_type": "slide"
    }
   },
   "outputs": [],
   "source": [
    "taxaSites <- allSamp %>%\n",
    "  group_by(variablename, siteid) %>% \n",
    "  group_by(variablename) %>% \n",
    "  summarise(sites = length(unique(siteid)))\n",
    "DT::datatable(data = head(taxaSites, n = 15), rownames = FALSE)"
   ]
  },
  {
   "cell_type": "code",
   "execution_count": null,
   "id": "a7808982",
   "metadata": {
    "slideshow": {
     "slide_type": "slide"
    }
   },
   "outputs": [],
   "source": [
    "taxaSamples <- allSamp %>%\n",
    "  group_by(variablename) %>% \n",
    "  summarise(samples = n())\n",
    "DT::datatable(data = head(taxaSamples, n = 8), rownames = FALSE)"
   ]
  },
  {
   "cell_type": "code",
   "execution_count": null,
   "id": "7b89ad3b",
   "metadata": {
    "slideshow": {
     "slide_type": "slide"
    }
   },
   "outputs": [],
   "source": [
    "taxaplots <- taxaSites %>% inner_join(taxaSamples, by = \"variablename\")\n",
    "DT::datatable(data = head(taxaplots, n = 20), rownames = FALSE)"
   ]
  },
  {
   "cell_type": "code",
   "execution_count": null,
   "id": "f11db6ff",
   "metadata": {
    "slideshow": {
     "slide_type": "slide"
    }
   },
   "outputs": [],
   "source": [
    "ggplot(data = taxaplots, aes(x = sites, y = samples)) +\n",
    "  geom_point() +\n",
    "  stat_smooth(method = 'glm', \n",
    "              method.args = list(family = 'poisson')) +\n",
    "  xlab(\"Number of Sites\") +\n",
    "  ylab(\"Number of Samples\") +\n",
    "  theme_bw()"
   ]
  },
  {
   "cell_type": "code",
   "execution_count": null,
   "id": "529647e0",
   "metadata": {
    "slideshow": {
     "slide_type": "subslide"
    }
   },
   "outputs": [],
   "source": [
    "translation <- readr::read_csv(\"data/taxontable.csv\", show_col_types = FALSE)\n",
    "DT::datatable(data = head(translation, n = 8), rownames = FALSE)"
   ]
  },
  {
   "cell_type": "code",
   "execution_count": null,
   "id": "56a1ab81",
   "metadata": {
    "slideshow": {
     "slide_type": "subslide"
    }
   },
   "outputs": [],
   "source": [
    "allSamp <- samples(cz_dl)\n",
    "\n",
    "allSamp <- allSamp %>%\n",
    "  inner_join(translation, by = c(\"variablename\" = \"variablename\")) %>% \n",
    "  select(!c(\"variablename\", \"sites\", \"samples\")) %>% \n",
    "  group_by(siteid, sitename, replacement,\n",
    "           sampleid, units, age,\n",
    "           agetype, depth, datasetid,\n",
    "           long, lat) %>%\n",
    "  summarise(value = sum(value))"
   ]
  },
  {
   "cell_type": "code",
   "execution_count": null,
   "id": "33655e25",
   "metadata": {},
   "outputs": [],
   "source": [
    "DT::datatable(head(allSamp, n = 5), rownames = FALSE)"
   ]
  }
 ],
 "metadata": {
  "celltoolbar": "Slideshow",
  "kernelspec": {
   "display_name": "R",
   "language": "R",
   "name": "ir"
  },
  "language_info": {
   "codemirror_mode": "r",
   "file_extension": ".r",
   "mimetype": "text/x-r-source",
   "name": "R",
   "pygments_lexer": "r",
   "version": "4.1.3"
  },
  "rise": {
   "autolaunch": true,
   "height": "80%",
   "scroll": true,
   "theme": "serif",
   "width": "90%"
  }
 },
 "nbformat": 4,
 "nbformat_minor": 5
}
