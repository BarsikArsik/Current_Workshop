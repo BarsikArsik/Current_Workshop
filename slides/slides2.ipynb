{
 "cells": [
  {
   "cell_type": "markdown",
   "id": "947545c8",
   "metadata": {
    "slideshow": {
     "slide_type": "slide"
    }
   },
   "source": [
    "## A Simple Model Workflow\n"
   ]
  },
  {
   "cell_type": "code",
   "execution_count": null,
   "id": "28c5b4c3",
   "metadata": {
    "slideshow": {
     "slide_type": "slide"
    }
   },
   "outputs": [],
   "source": [
    "# Run this cell if you want to follow along \n",
    "options(warn = -1)\n",
    "suppressMessages(library(neotoma2))\n",
    "suppressMessages(library(sf))\n",
    "suppressMessages(library(geojsonsf))\n",
    "suppressMessages(library(dplyr))\n",
    "suppressMessages(library(ggplot2))\n",
    "suppressMessages(library(leaflet))"
   ]
  },
  {
   "cell_type": "markdown",
   "id": "88f46549",
   "metadata": {
    "slideshow": {
     "slide_type": "slide"
    }
   },
   "source": [
    "### Goals\n",
    "\n",
    "1. Geographic search for sites\n",
    "2. Collect datasets\n",
    "3. Filter for time/space/etc.\n",
    "4. Get full download\n",
    "5. Analyze & plot\n"
   ]
  },
  {
   "cell_type": "markdown",
   "id": "81b85773",
   "metadata": {
    "slideshow": {
     "slide_type": "slide"
    }
   },
   "source": [
    "## Search for Sites\n",
    "\n",
    "### `get_sites()`\n",
    "\n",
    "* Site names: `sitename=’Lait%’`\n",
    "* Location: `loc=c()`\n",
    "* Altitude: `altmin`, `altmax`"
   ]
  },
  {
   "cell_type": "code",
   "execution_count": null,
   "id": "9fc10cce",
   "metadata": {
    "slideshow": {
     "slide_type": "subslide"
    }
   },
   "outputs": [],
   "source": [
    "laitSites <- neotoma2::get_sites(sitename = \"%Lait%\")\n",
    "laitSites"
   ]
  },
  {
   "cell_type": "code",
   "execution_count": null,
   "id": "57965dd9",
   "metadata": {
    "scrolled": true,
    "slideshow": {
     "slide_type": "fragment"
    }
   },
   "outputs": [],
   "source": [
    "neotoma2::plotLeaflet(laitSites)"
   ]
  },
  {
   "cell_type": "markdown",
   "id": "599b4806",
   "metadata": {
    "slideshow": {
     "slide_type": "subslide"
    }
   },
   "source": [
    "### Location `loc=c()`"
   ]
  },
  {
   "cell_type": "code",
   "execution_count": null,
   "id": "a56790a0",
   "metadata": {
    "slideshow": {
     "slide_type": "fragment"
    }
   },
   "outputs": [],
   "source": [
    "czGeoJson <-'{\"type\": \"Polygon\",\n",
    "        \"coordinates\": [[\n",
    "            [12.40, 50.14],[14.10, 48.64],[16.95, 48.66],\n",
    "            [18.91, 49.61],[15.24, 50.99],[12.40, 50.14]]]}'\n",
    "czGeoJson <- geojsonsf::geojson_sf(czGeoJson)\n",
    "cz_sites <- neotoma2::get_sites(loc = czGeoJson)\n",
    "neotoma2::plotLeaflet(cz_sites)"
   ]
  },
  {
   "cell_type": "code",
   "execution_count": null,
   "id": "e3c23b88",
   "metadata": {
    "scrolled": true,
    "slideshow": {
     "slide_type": "subslide"
    }
   },
   "outputs": [],
   "source": [
    "czWKT = 'POLYGON ((12.4 50.14, \n",
    "                         14.1 48.64, \n",
    "                         16.95 48.66, \n",
    "                         18.91 49.61,\n",
    "                         15.24 50.99,\n",
    "                         12.4 50.14))'\n",
    "cz_sites <- neotoma2::get_sites(loc = czWKT)\n",
    "neotoma2::plotLeaflet(cz_sites)"
   ]
  },
  {
   "cell_type": "code",
   "execution_count": null,
   "id": "d1ef3a69",
   "metadata": {
    "slideshow": {
     "slide_type": "subslide"
    }
   },
   "outputs": [],
   "source": [
    "czBbox = c(12.4, 48.64, 18.91, 50.99)\n",
    "cz_sites <- neotoma2::get_sites(loc = czBbox)\n",
    "neotoma2::plotLeaflet(cz_sites)"
   ]
  },
  {
   "cell_type": "code",
   "execution_count": null,
   "id": "a8edaa96",
   "metadata": {
    "scrolled": true,
    "slideshow": {
     "slide_type": "subslide"
    }
   },
   "outputs": [],
   "source": [
    "neotoma2::plotLeaflet(cz_sites) %>% \n",
    "leaflet::addPolygons(map = ., \n",
    "                       data = czGeoJson, \n",
    "                       color = \"green\")"
   ]
  },
  {
   "cell_type": "markdown",
   "id": "4c828b7f",
   "metadata": {
    "slideshow": {
     "slide_type": "slide"
    }
   },
   "source": [
    "## Helper Functions\n",
    "\n",
    "###  `summary()`"
   ]
  },
  {
   "cell_type": "code",
   "execution_count": null,
   "id": "6b1b2de7",
   "metadata": {
    "slideshow": {
     "slide_type": "subslide"
    }
   },
   "outputs": [],
   "source": [
    "neotoma2::summary(cz_sites) %>%\n",
    "  DT::datatable(data = ., rownames = FALSE)"
   ]
  },
  {
   "cell_type": "markdown",
   "id": "7ce9e6a4",
   "metadata": {
    "slideshow": {
     "slide_type": "slide"
    }
   },
   "source": [
    "## Search for Datasets\n",
    "\n",
    "### `get_datasets()`\n",
    "\n",
    "* Datasettype: `datasettype=’Diatom surface sample’`\n",
    "* Location: `loc=c()`\n",
    "* Altitude: `altmin`, `altmax`\n",
    "\n",
    "### `datasets()`"
   ]
  },
  {
   "cell_type": "code",
   "execution_count": null,
   "id": "082c20ff",
   "metadata": {
    "scrolled": true,
    "slideshow": {
     "slide_type": "subslide"
    }
   },
   "outputs": [],
   "source": [
    "cz_datasets <- neotoma2::get_datasets(cz_sites, all_data = TRUE, verbose = FALSE)\n",
    "datasets(cz_datasets) %>% \n",
    "  as.data.frame() %>% \n",
    "  DT::datatable(data = .)"
   ]
  },
  {
   "cell_type": "code",
   "execution_count": null,
   "id": "efa137de",
   "metadata": {
    "slideshow": {
     "slide_type": "subslide"
    }
   },
   "outputs": [],
   "source": [
    "datasets(cz_sites) %>% \n",
    "  as.data.frame() %>% \n",
    "  DT::datatable(data = .)"
   ]
  },
  {
   "cell_type": "markdown",
   "id": "a5e4d0de",
   "metadata": {
    "slideshow": {
     "slide_type": "slide"
    }
   },
   "source": [
    "## Helper Functions\n",
    "\n",
    "###  `filter()`"
   ]
  },
  {
   "cell_type": "code",
   "execution_count": null,
   "id": "0ba7aa03",
   "metadata": {
    "scrolled": true,
    "slideshow": {
     "slide_type": "fragment"
    }
   },
   "outputs": [],
   "source": [
    "cz_pollen <- cz_datasets %>% \n",
    "  neotoma2::filter(datasettype == \"pollen\")\n",
    "neotoma2::summary(cz_pollen) %>% DT::datatable(data = .)"
   ]
  },
  {
   "cell_type": "markdown",
   "id": "c978a3cf",
   "metadata": {
    "slideshow": {
     "slide_type": "subslide"
    }
   },
   "source": [
    "**Remember** that the order in which packages are loaded makes a difference. \n",
    "```python\n",
    "Error in UseMethod(\"filter\"): \n",
    "  no applicable method for 'filter' applied to an object of class \"sites\"\n",
    "```\n",
    "\n",
    "The previous error message means that a different package is trying to run `filter()`"
   ]
  },
  {
   "cell_type": "markdown",
   "id": "424b60b4",
   "metadata": {
    "slideshow": {
     "slide_type": "slide"
    }
   },
   "source": [
    "## Pulling the Data\n",
    "\n",
    "### `get_downloads()`\n",
    "\n",
    "* Done after the preliminary filtering"
   ]
  },
  {
   "cell_type": "code",
   "execution_count": null,
   "id": "ef16f711",
   "metadata": {
    "slideshow": {
     "slide_type": "subslide"
    }
   },
   "outputs": [],
   "source": [
    "## This line is commented out because we've already run it for you.\n",
    "## cz_dl <- cz_pollen %>% get_downloads(all_data = TRUE)\n",
    "cz_dl <- readRDS('data/czDownload.RDS')"
   ]
  },
  {
   "cell_type": "code",
   "execution_count": null,
   "id": "2a2b189b",
   "metadata": {
    "slideshow": {
     "slide_type": "fragment"
    }
   },
   "outputs": [],
   "source": [
    "allSamp <- samples(cz_dl)\n",
    "head(allSamp, n = 2)"
   ]
  },
  {
   "cell_type": "code",
   "execution_count": null,
   "id": "071553ee",
   "metadata": {
    "slideshow": {
     "slide_type": "subslide"
    }
   },
   "outputs": [],
   "source": [
    "names(allSamp)"
   ]
  },
  {
   "cell_type": "markdown",
   "id": "10fea6e3",
   "metadata": {
    "slideshow": {
     "slide_type": "slide"
    }
   },
   "source": [
    "## Extracting taxa\n",
    "\n",
    "### `taxa()`\n",
    "\n",
    "- Returns:\n",
    "    * unique taxa\n",
    "    * number of sites\n",
    "    * number of samples\n",
    "    \n",
    "- taxonid is in `samples()` too. This allows to build harmonization tables."
   ]
  },
  {
   "cell_type": "code",
   "execution_count": null,
   "id": "901b4c66",
   "metadata": {
    "scrolled": true,
    "slideshow": {
     "slide_type": "subslide"
    }
   },
   "outputs": [],
   "source": [
    "neotomatx <- neotoma2::taxa(cz_dl) %>% \n",
    "  unique()\n",
    "\n",
    "DT::datatable(data = head(neotomatx, n = 10), rownames = FALSE)"
   ]
  }
 ],
 "metadata": {
  "celltoolbar": "Slideshow",
  "kernelspec": {
   "display_name": "R",
   "language": "R",
   "name": "ir"
  },
  "language_info": {
   "codemirror_mode": "r",
   "file_extension": ".r",
   "mimetype": "text/x-r-source",
   "name": "R",
   "pygments_lexer": "r",
   "version": "4.1.3"
  },
  "rise": {
   "autolaunch": true,
   "height": "80%",
   "scroll": true,
   "theme": "serif",
   "width": "90%"
  }
 },
 "nbformat": 4,
 "nbformat_minor": 5
}
